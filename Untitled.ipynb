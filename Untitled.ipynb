{
 "cells": [
  {
   "cell_type": "code",
   "execution_count": 4,
   "metadata": {},
   "outputs": [],
   "source": [
    "import pandas as pd\n",
    "import os\n",
    "\n",
    "from collections import Counter"
   ]
  },
  {
   "cell_type": "code",
   "execution_count": 5,
   "metadata": {},
   "outputs": [],
   "source": [
    "apple = \"/media/lofowl/SL-E1/2019_Summer_Project/repo4/\"\n",
    "name_list = os.listdir(apple)\n",
    "repo_path = list(map(lambda x: apple+x,name_list))"
   ]
  },
  {
   "cell_type": "code",
   "execution_count": 6,
   "metadata": {},
   "outputs": [],
   "source": [
    "having_change = [x for x in repo_path if os.path.exists(x+\"/change.csv\")]"
   ]
  },
  {
   "cell_type": "code",
   "execution_count": 8,
   "metadata": {},
   "outputs": [
    {
     "name": "stdout",
     "output_type": "stream",
     "text": [
      "9365\n"
     ]
    }
   ],
   "source": [
    "print(len(having_change))"
   ]
  },
  {
   "cell_type": "code",
   "execution_count": 7,
   "metadata": {},
   "outputs": [
    {
     "name": "stdout",
     "output_type": "stream",
     "text": [
      "2871\n",
      "2792\n",
      "['sha' 'status' 'parent_index' 'child_index' 'file' 'types']\n"
     ]
    }
   ],
   "source": [
    "example = having_change[0]\n",
    "data = pd.read_csv(example+\"/change.csv\")\n",
    "print(len(data))\n",
    "filter_data = data[data[\"types\"] != '0']\n",
    "print(len(filter_data))\n",
    "print(filter_data.columns.values)\n",
    "\n",
    "second_data = filter_data.groupby([\"sha\"])\n",
    "getValue = []\n",
    "for name,gr in second_data:\n",
    "    count = dict(Counter(gr[\"types\"]))\n",
    "    getvalue = list(count.keys())\n",
    "    if \"markdown\" in getvalue and \"code\" in getvalue:\n",
    "        getValue.append(\"both\")\n",
    "    elif \"markdown\" in getvalue:\n",
    "        getValue.append(\"markdown\")\n",
    "    elif \"code\" in getvalue:\n",
    "        getValue.append(\"code\")\n",
    "    "
   ]
  },
  {
   "cell_type": "code",
   "execution_count": null,
   "metadata": {},
   "outputs": [],
   "source": []
  }
 ],
 "metadata": {
  "kernelspec": {
   "display_name": "Python 3",
   "language": "python",
   "name": "python3"
  },
  "language_info": {
   "codemirror_mode": {
    "name": "ipython",
    "version": 3
   },
   "file_extension": ".py",
   "mimetype": "text/x-python",
   "name": "python",
   "nbconvert_exporter": "python",
   "pygments_lexer": "ipython3",
   "version": "3.6.8"
  }
 },
 "nbformat": 4,
 "nbformat_minor": 2
}
